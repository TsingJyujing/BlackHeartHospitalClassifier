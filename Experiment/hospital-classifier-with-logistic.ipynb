{
 "cells": [
  {
   "cell_type": "markdown",
   "metadata": {},
   "source": [
    "# 使用 Logistic 回归对莆田系医院名称进行分类"
   ]
  },
  {
   "cell_type": "code",
   "execution_count": 1,
   "metadata": {},
   "outputs": [],
   "source": [
    "import numpy as np\n",
    "import jieba\n",
    "from scipy.sparse import *\n",
    "from scipy.sparse.linalg import svds\n",
    "from matplotlib import pyplot"
   ]
  },
  {
   "cell_type": "markdown",
   "metadata": {},
   "source": [
    "## 生成数据集"
   ]
  },
  {
   "cell_type": "code",
   "execution_count": 2,
   "metadata": {},
   "outputs": [
    {
     "name": "stderr",
     "output_type": "stream",
     "text": [
      "Building prefix dict from the default dictionary ...\n",
      "Loading model from cache /tmp/jieba.cache\n",
      "Loading model cost 2.137 seconds.\n",
      "Prefix dict has been built succesfully.\n"
     ]
    }
   ],
   "source": [
    "label = []\n",
    "dataset_raw = []\n",
    "dataset_segmented = []\n",
    "for filename, label_value in {\"white_list.txt\":1, \"black_list.txt\":-1}.items():\n",
    "    with open(filename,\"r\") as fp:\n",
    "        for hospital_name in fp.readlines():\n",
    "            hospital_name = hospital_name.replace(\"\\n\",\"\")\n",
    "            dataset_segmented.append([w for w in  jieba.cut(hospital_name)]) \n",
    "            dataset_raw.append(hospital_name)\n",
    "            label.append(label_value)\n",
    "words = list(set([y for x in dataset_segmented for y in x]))\n",
    "words_map = { w:i for i,w in enumerate(words)}"
   ]
  },
  {
   "cell_type": "code",
   "execution_count": 3,
   "metadata": {},
   "outputs": [],
   "source": [
    "il = []\n",
    "jl = []\n",
    "vl = []\n",
    "for i, value in enumerate(dataset_segmented):\n",
    "    for j in (words_map[w] for w in value):\n",
    "        il.append(i)\n",
    "        jl.append(j)\n",
    "        vl.append(1.0)\n",
    "spX = coo_matrix((np.array(vl),(np.array(il),np.array(jl))), shape=(len(label),len(words)))"
   ]
  },
  {
   "cell_type": "code",
   "execution_count": 4,
   "metadata": {},
   "outputs": [
    {
     "name": "stderr",
     "output_type": "stream",
     "text": [
      "/usr/local/lib/python3.5/dist-packages/sklearn/cross_validation.py:41: DeprecationWarning: This module was deprecated in version 0.18 in favor of the model_selection module into which all the refactored classes and functions are moved. Also note that the interface of the new CV iterators are different from that of this module. This module will be removed in 0.20.\n",
      "  \"This module will be removed in 0.20.\", DeprecationWarning)\n"
     ]
    }
   ],
   "source": [
    "import random\n",
    "import pandas\n",
    "import itertools\n",
    "from sklearn.linear_model import LogisticRegressionCV\n",
    "from sklearn.metrics import confusion_matrix\n",
    "from sklearn import preprocessing\n",
    "from sklearn.cross_validation import train_test_split\n",
    "def plot_confusion_matrix(cm, classes,\n",
    "                          normalize=False,\n",
    "                          title='Confusion matrix',\n",
    "                          cmap=pyplot.cm.Blues):\n",
    "    \"\"\"\n",
    "    绘制混淆矩阵的函数\n",
    "    \"\"\"\n",
    "    if normalize:\n",
    "        cm = cm.astype('float') / cm.sum(axis=1)[:, np.newaxis]\n",
    "        print(\"Normalized confusion matrix\")\n",
    "    else:\n",
    "        print('Confusion matrix, without normalization')\n",
    "\n",
    "    print(cm)\n",
    "\n",
    "    pyplot.imshow(cm, interpolation='nearest', cmap=cmap)\n",
    "    pyplot.title(title)\n",
    "    pyplot.colorbar()\n",
    "    tick_marks = np.arange(len(classes))\n",
    "    pyplot.xticks(tick_marks, classes, rotation=45)\n",
    "    pyplot.yticks(tick_marks, classes)\n",
    "\n",
    "    fmt = '.2f' if normalize else 'd'\n",
    "    thresh = cm.max() / 2.\n",
    "    for i, j in itertools.product(range(cm.shape[0]), range(cm.shape[1])):\n",
    "        pyplot.text(j, i, format(cm[i, j], fmt),\n",
    "                 horizontalalignment=\"center\",\n",
    "                 color=\"white\" if cm[i, j] > thresh else \"black\")\n",
    "\n",
    "    pyplot.tight_layout()\n",
    "    pyplot.ylabel('True label')\n",
    "    pyplot.xlabel('Predicted label')\n",
    "    pyplot.show()\n",
    "    \n",
    "def plot_confusion_matrix_by_model(model,x,y,title=\"Model Confusion Matrix\",normalize=False):\n",
    "    plot_confusion_matrix(confusion_matrix(y, model.predict(x)), [-1, 1], normalize=normalize, title=title)\n",
    "    "
   ]
  },
  {
   "cell_type": "code",
   "execution_count": 5,
   "metadata": {},
   "outputs": [],
   "source": [
    "X_train,X_test, y_train, y_test = train_test_split(spX, label, test_size=0.08, random_state=1)"
   ]
  },
  {
   "cell_type": "markdown",
   "metadata": {},
   "source": [
    "## 指定模型开始训练\n",
    "需要注意的是，我们的模型秉承“宁可错杀一千，也不要放过一个”的目标，需要将负样本的权重适当调整大一些。"
   ]
  },
  {
   "cell_type": "code",
   "execution_count": 6,
   "metadata": {},
   "outputs": [
    {
     "name": "stdout",
     "output_type": "stream",
     "text": [
      "训练完成，训练数据尺寸：(13955, 7155) 耗时：3.4732444286346436\n"
     ]
    }
   ],
   "source": [
    "import time\n",
    "start_tick = time.time()\n",
    "model = LogisticRegressionCV(\n",
    "    Cs=[10 ** x for x in range(-5, 5)],\n",
    "    cv=8,\n",
    "    solver=\"liblinear\",\n",
    "    class_weight={\n",
    "        1:1,\n",
    "        -1:10\n",
    "    },\n",
    "    n_jobs=-1\n",
    ")\n",
    "model.fit(X_train, y_train)\n",
    "duration = time.time() - start_tick\n",
    "print(\"训练完成，训练数据尺寸：{} 耗时：{}\".format(X_train.shape, duration))"
   ]
  },
  {
   "cell_type": "markdown",
   "metadata": {},
   "source": [
    "## 结果评价\n",
    "绘制混淆矩阵"
   ]
  },
  {
   "cell_type": "code",
   "execution_count": 7,
   "metadata": {},
   "outputs": [
    {
     "name": "stdout",
     "output_type": "stream",
     "text": [
      "Normalized confusion matrix\n",
      "[[0.95402299 0.04597701]\n",
      " [0.01863354 0.98136646]]\n"
     ]
    },
    {
     "data": {
      "image/png": "[encoded data removed]",
      "text/plain": [
       "<Figure size 432x288 with 2 Axes>"
      ]
     },
     "metadata": {},
     "output_type": "display_data"
    },
    {
     "name": "stdout",
     "output_type": "stream",
     "text": [
      "Normalized confusion matrix\n",
      "[[1.         0.        ]\n",
      " [0.00896237 0.99103763]]\n"
     ]
    },
    {
     "data": {
      "image/png": "[encoded data removed]",
      "text/plain": [
       "<Figure size 432x288 with 2 Axes>"
      ]
     },
     "metadata": {},
     "output_type": "display_data"
    }
   ],
   "source": [
    "plot_confusion_matrix_by_model(model,X_test,y_test,title=\"Test Set Confusion Matrix\",normalize=True)\n",
    "plot_confusion_matrix_by_model(model,X_train,y_train,title=\"Train Set Confusion Matrix\",normalize=True)"
   ]
  },
  {
   "cell_type": "markdown",
   "metadata": {},
   "source": [
    "绘制ROC曲线"
   ]
  },
  {
   "cell_type": "code",
   "execution_count": 8,
   "metadata": {},
   "outputs": [
    {
     "name": "stderr",
     "output_type": "stream",
     "text": [
      "/usr/local/lib/python3.5/dist-packages/ipykernel_launcher.py:4: MatplotlibDeprecationWarning: pyplot.hold is deprecated.\n",
      "    Future behavior will be consistent with the long-time default:\n",
      "    plot commands add elements without first clearing the\n",
      "    Axes and/or Figure.\n",
      "  after removing the cwd from sys.path.\n",
      "/usr/local/lib/python3.5/dist-packages/matplotlib/__init__.py:911: MatplotlibDeprecationWarning: axes.hold is deprecated. Please remove it from your matplotlibrc and/or style files.\n",
      "  mplDeprecation)\n",
      "/usr/local/lib/python3.5/dist-packages/matplotlib/rcsetup.py:156: MatplotlibDeprecationWarning: axes.hold is deprecated, will be removed in 3.0\n",
      "  mplDeprecation)\n",
      "/usr/local/lib/python3.5/dist-packages/ipykernel_launcher.py:18: MatplotlibDeprecationWarning: pyplot.hold is deprecated.\n",
      "    Future behavior will be consistent with the long-time default:\n",
      "    plot commands add elements without first clearing the\n",
      "    Axes and/or Figure.\n"
     ]
    },
    {
     "data": {
      "image/png": "[encoded data removed]",
      "text/plain": [
       "<Figure size 432x288 with 1 Axes>"
      ]
     },
     "metadata": {},
     "output_type": "display_data"
    }
   ],
   "source": [
    "from sklearn.metrics import roc_curve, auc\n",
    "pyplot.figure()\n",
    "pyplot.cla()\n",
    "pyplot.hold(True)\n",
    "lw = 2\n",
    "for x_data,y_data,label_info in [(X_train,y_train,\"train\"),(X_test,y_test,\"test\")]:\n",
    "    y_cls_prob = model.decision_function(x_data)\n",
    "    fpr,tpr,_ = roc_curve(y_data, y_cls_prob)\n",
    "    roc_auc = auc(fpr, tpr)\n",
    "    pyplot.plot(fpr, tpr, label='%s ROC curve (AUC = %0.2f)' % (label_info, roc_auc))\n",
    "pyplot.plot([0, 1], [0, 1], color='navy', lw=lw, linestyle='--')\n",
    "pyplot.xlim([0.0, 1.0])\n",
    "pyplot.ylim([0.0, 1.05])\n",
    "pyplot.xlabel('False Positive Rate')\n",
    "pyplot.ylabel('True Positive Rate')\n",
    "pyplot.title('Receiver operating characteristic example')\n",
    "pyplot.legend(loc=\"lower right\")\n",
    "pyplot.hold(False)"
   ]
  },
  {
   "cell_type": "code",
   "execution_count": 9,
   "metadata": {},
   "outputs": [],
   "source": [
    "w = model.coef_[0]\n",
    "reI = np.argsort(w)"
   ]
  },
  {
   "cell_type": "code",
   "execution_count": 10,
   "metadata": {},
   "outputs": [
    {
     "name": "stdout",
     "output_type": "stream",
     "text": [
      "['慧慈', '凉山', '玛莉亚', '爱德华', '济南', '阳光', '国丹', '九州', '天骄', '莆田', '江南', '青羊区', '南亚', '妇科', '中骏']\n"
     ]
    }
   ],
   "source": [
    "print([words[i] for i in reI[:15]])"
   ]
  },
  {
   "cell_type": "code",
   "execution_count": 11,
   "metadata": {},
   "outputs": [
    {
     "name": "stdout",
     "output_type": "stream",
     "text": [
      "['264', '闵行', '中国人民武装警察部队', '钢铁', '中国人民解放军', '分院', '协合', '护理', '铁路分局', '医学院', '四川省', '职工', '乳房', '地段', '妇幼保健']\n"
     ]
    }
   ],
   "source": [
    "print([words[i] for i in reI[-15:]])"
   ]
  },
  {
   "cell_type": "code",
   "execution_count": 12,
   "metadata": {
    "slideshow": {
     "slide_type": "-"
    }
   },
   "outputs": [
    {
     "name": "stdout",
     "output_type": "stream",
     "text": [
      "Fuck\n",
      "Normal\n",
      "Fuck\n",
      "Normal\n"
     ]
    }
   ],
   "source": [
    "def predict(hospital_name:str):\n",
    "    words_index = [words_map[w] for w in  jieba.cut(hospital_name) if w in words_map]\n",
    "    il = [0 for _ in words_index]\n",
    "    vl = [1 for _ in words_index]\n",
    "    result = model.predict(\n",
    "        coo_matrix(\n",
    "            (\n",
    "                np.array(vl),\n",
    "                (\n",
    "                    np.array(il),\n",
    "                    np.array(words_index)\n",
    "                )\n",
    "            ), \n",
    "            shape=(1,len(words))\n",
    "        )\n",
    "    )\n",
    "    if result>0:\n",
    "        print(\"Normal\") \n",
    "    else:\n",
    "        print(\"Fuck\") \n",
    "    \n",
    "predict(\"上海玛丽女子医院\")\n",
    "predict(\"上海市中医医院\")\n",
    "predict(\"京州市阳光医院\")\n",
    "predict(\"汉东省人民医院\")"
   ]
  },
  {
   "cell_type": "code",
   "execution_count": 13,
   "metadata": {},
   "outputs": [
    {
     "data": {
      "text/plain": [
       "['slogistic.m']"
      ]
     },
     "execution_count": 13,
     "metadata": {},
     "output_type": "execute_result"
    }
   ],
   "source": [
    "from sklearn.externals import joblib\n",
    "joblib.dump(model,\"slogistic.m\")"
   ]
  },
  {
   "cell_type": "code",
   "execution_count": 15,
   "metadata": {},
   "outputs": [],
   "source": [
    "import json\n",
    "with open(\"words_map.json\" ,\"w\") as fp:\n",
    "    fp.write(json.dumps(words_map))"
   ]
  }
 ],
 "metadata": {
  "kernelspec": {
   "display_name": "Python 3",
   "language": "python",
   "name": "python3"
  },
  "language_info": {
   "codemirror_mode": {
    "name": "ipython",
    "version": 3
   },
   "file_extension": ".py",
   "mimetype": "text/x-python",
   "name": "python",
   "nbconvert_exporter": "python",
   "pygments_lexer": "ipython3",
   "version": "3.5.2"
  }
 },
 "nbformat": 4,
 "nbformat_minor": 2
}
