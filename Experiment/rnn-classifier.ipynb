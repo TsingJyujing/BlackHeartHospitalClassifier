{
 "cells": [
  {
   "cell_type": "code",
   "execution_count": 1,
   "metadata": {},
   "outputs": [],
   "source": [
    "import torch\n",
    "import random\n",
    "import numpy\n",
    "from scipy.sparse import coo_matrix\n",
    "from scipy.sparse.linalg import svds"
   ]
  },
  {
   "cell_type": "code",
   "execution_count": 2,
   "metadata": {},
   "outputs": [],
   "source": [
    "hidden_size = 128\n",
    "test_ratio = 0.05\n",
    "torch.set_num_threads(6)"
   ]
  },
  {
   "cell_type": "code",
   "execution_count": 3,
   "metadata": {},
   "outputs": [],
   "source": [
    "# Loading data from text file\n",
    "label = []\n",
    "dataset_raw = []\n",
    "dataset_classed = {}\n",
    "\n",
    "label_test = []\n",
    "dataset_raw_test = []\n",
    "dataset_classed_test = {}\n",
    "\n",
    "for filename, label_value in {\"white_list.txt\":1, \"black_list.txt\":0}.items():\n",
    "    current_data_set = []\n",
    "    current_data_set_test = []\n",
    "    with open(filename,\"r\") as fp:\n",
    "        for hospital_name in fp.readlines():\n",
    "            hospital_name = hospital_name.replace(\"\\n\",\"\")\n",
    "            is_test = test_ratio>random.random()\n",
    "            if is_test:\n",
    "                current_data_set.append(hospital_name)\n",
    "                label.append(label_value)\n",
    "            else:\n",
    "                current_data_set_test.append(hospital_name)\n",
    "                label_test.append(label_value)\n",
    "    dataset_raw += current_data_set\n",
    "    dataset_classed[label_value] = current_data_set\n",
    "    dataset_raw_test += current_data_set_test\n",
    "    dataset_classed_test[label_value] = current_data_set_test\n",
    "    \n",
    "char_list = list(set([y for x in dataset_raw for y in x]))\n",
    "\n",
    "char_map = { w:i for i,w in enumerate(char_list)}\n",
    "char_list_size = len(char_list)\n"
   ]
  },
  {
   "cell_type": "code",
   "execution_count": 4,
   "metadata": {},
   "outputs": [],
   "source": [
    "# Just for demonstration, turn a letter into a <1 x n_letters> Tensor\n",
    "def charToTensor(ch):\n",
    "    tensor = torch.zeros(1, char_list_size)\n",
    "    tensor[0][char_map[ch]] = 1\n",
    "    return tensor\n",
    "\n",
    "def lineToTensor(line:str):\n",
    "    tensor = torch.zeros(len(line), 1, char_list_size)\n",
    "    for li, ch in enumerate(line):\n",
    "        if ch in char_map:\n",
    "            tensor[li][0][char_map[ch]] = 1\n",
    "    return tensor"
   ]
  },
  {
   "cell_type": "code",
   "execution_count": 5,
   "metadata": {},
   "outputs": [],
   "source": [
    "def randomChoice(x):\n",
    "    return x[random.randint(0, len(x) - 1)]\n",
    "\n",
    "def samplingRandomly():\n",
    "    category = randomChoice(list(dataset_classed.keys()))\n",
    "    data = randomChoice(dataset_classed[category])\n",
    "    data_tensor = lineToTensor(data)\n",
    "    category_tensor = torch.tensor([category], dtype=torch.long)\n",
    "    return (category,data,category_tensor,data_tensor)"
   ]
  },
  {
   "cell_type": "code",
   "execution_count": 6,
   "metadata": {},
   "outputs": [],
   "source": [
    "import torch.nn as nn\n",
    "class RNN(nn.Module):\n",
    "    def __init__(self, input_size, hidden_size, output_size):\n",
    "        super(RNN, self).__init__()\n",
    "        self.hidden_size = hidden_size\n",
    "        self.i2h = nn.Linear(input_size + hidden_size, hidden_size)\n",
    "        self.i2o = nn.Linear(input_size + hidden_size, output_size)\n",
    "        self.softmax = nn.LogSoftmax(dim=1)\n",
    "\n",
    "    def forward(self, input, hidden):\n",
    "        combined = torch.cat((input, hidden), 1)\n",
    "        hidden = self.i2h(combined)\n",
    "        output = self.i2o(combined)\n",
    "        output = self.softmax(output)\n",
    "        return output, hidden\n",
    "\n",
    "    def initHidden(self):\n",
    "        return torch.zeros(1, self.hidden_size)\n",
    "    "
   ]
  },
  {
   "cell_type": "code",
   "execution_count": 7,
   "metadata": {},
   "outputs": [
    {
     "name": "stdout",
     "output_type": "stream",
     "text": [
      "1\n"
     ]
    }
   ],
   "source": [
    "rnn = RNN(len(char_list), hidden_size, 2)\n",
    "# Test net\n",
    "output, next_hidden = rnn(charToTensor(\"院\"), torch.zeros(1, hidden_size))\n",
    "def categoryFromOutput(output):\n",
    "    \"\"\"\n",
    "    返回是否正常\n",
    "    \"\"\"\n",
    "    return 0 if output[0][0]>= output[0][1] else 1\n",
    "\n",
    "print(categoryFromOutput(output))"
   ]
  },
  {
   "cell_type": "code",
   "execution_count": 8,
   "metadata": {},
   "outputs": [],
   "source": [
    "loss_function = nn.NLLLoss()\n",
    "learning_rate = 0.005 # If you set this too high, it might explode. If too low, it might not learn\n",
    "def train(category_tensor, line_tensor):\n",
    "    hidden = rnn.initHidden()\n",
    "    rnn.zero_grad()\n",
    "    for i in range(line_tensor.size()[0]):\n",
    "        output, hidden = rnn(line_tensor[i], hidden)\n",
    "    loss = loss_function(output, category_tensor)\n",
    "    loss.backward()\n",
    "    # Add parameters' gradients to their values, multiplied by learning rate\n",
    "    for p in rnn.parameters():\n",
    "        p.data.add_(-learning_rate, p.grad.data)\n",
    "    return output, loss.item()"
   ]
  },
  {
   "cell_type": "code",
   "execution_count": null,
   "metadata": {},
   "outputs": [
    {
     "name": "stdout",
     "output_type": "stream",
     "text": [
      "100 0% (3m 17s) 0.1343/0.0023 库伦旗蒙医院 / 1 ✓\n",
      "200 0% (6m 37s) 0.4384/0.0030 济南乳腺医院 / 0 ✓\n",
      "300 0% (9m 56s) 0.4256/0.0026 鄯善县妇幼保健站 / 1 ✓\n",
      "400 0% (13m 17s) 0.2768/0.0022 北京圣保罗男子医院 / 0 ✓\n",
      "500 0% (16m 40s) 0.2648/0.0022 天门市口腔医院 / 1 ✓\n",
      "600 0% (20m 3s) 0.3131/0.0018 成都安琪儿妇产医院 / 0 ✓\n",
      "700 0% (23m 22s) 0.5266/0.0049 滁州市琅琊区人民医院 / 1 ✓\n",
      "800 0% (26m 44s) 0.5100/0.0023 重庆现代女子医院 / 0 ✓\n",
      "900 0% (30m 6s) 0.5187/0.0018 郸城县人民医院 / 1 ✓\n",
      "1000 1% (33m 29s) 0.3833/0.0018 中国人民解放军第二十三医院 / 1 ✓\n",
      "1100 1% (36m 51s) 0.2727/0.0017 杭州和睦医院 / 0 ✓\n",
      "1200 1% (40m 14s) 0.3626/0.0018 仙居县中医院 / 1 ✓\n",
      "1300 1% (43m 37s) 0.1617/0.0014 遵义女子医院 / 0 ✓\n",
      "1400 1% (47m 1s) 0.3263/0.0016 长沙恒生手外科医院 / 0 ✓\n",
      "1500 1% (50m 30s) 0.1750/0.0015 云南省康复医院 / 1 ✓\n",
      "1600 1% (53m 51s) 0.2556/0.0015 广州女子医院 / 0 ✓\n",
      "1700 1% (57m 11s) 0.3311/0.0015 成都安琪儿妇产医院 / 0 ✓\n",
      "1800 1% (60m 32s) 0.2911/0.0012 上海万众医院 / 0 ✓\n",
      "1900 1% (64m 2s) 0.3039/0.0015 重庆职工医学院医院 / 1 ✓\n",
      "2000 2% (67m 35s) 0.2584/0.0012 铜仁华夏医院 / 0 ✓\n",
      "2100 2% (70m 52s) 0.1530/0.0010 嘉兴市新塍人民医院 / 1 ✓\n",
      "2200 2% (74m 10s) 0.2269/0.0009 南京市儿童医院 / 1 ✓\n",
      "2300 2% (77m 30s) 0.1917/0.0010 郑州华夏白癜风医院 / 0 ✓\n",
      "2400 2% (80m 48s) 0.2731/0.0021 肇庆福康医院 / 0 ✓\n",
      "2500 2% (84m 8s) 0.2394/0.0011 洛阳市机车厂职工医院 / 1 ✓\n",
      "2600 2% (87m 27s) 0.1632/0.0011 深圳阳光医院 / 0 ✓\n",
      "2700 2% (90m 50s) 0.3108/0.0012 深圳博爱医院 / 0 ✓\n",
      "2800 2% (94m 13s) 0.1534/0.0008 上海市闵行区牙病防治所 / 1 ✓\n",
      "2900 2% (97m 34s) 0.2373/0.0008 崇左县中医院 / 1 ✓\n"
     ]
    }
   ],
   "source": [
    "import time\n",
    "import math\n",
    "n_iters = 100000\n",
    "print_every = 100\n",
    "check_early_stopping = 100\n",
    "# Keep track of losses for plotting\n",
    "current_loss = 0\n",
    "all_losses = []\n",
    "test_losses = []\n",
    "\n",
    "increase_count = 5\n",
    "\n",
    "def timeSince(since):\n",
    "    now = time.time()\n",
    "    s = now - since\n",
    "    m = math.floor(s / 60)\n",
    "    s -= m * 60\n",
    "    return '%dm %ds' % (m, s)\n",
    "\n",
    "start = time.time()\n",
    "\n",
    "for iter in range(1, n_iters + 1):\n",
    "    category,data,category_tensor,data_tensor = samplingRandomly()\n",
    "    output, loss = train(category_tensor,data_tensor)\n",
    "    current_loss += loss\n",
    "    # Add current loss avg to list of losses\n",
    "    if iter % check_early_stopping == 0:\n",
    "        avg_loss = current_loss / check_early_stopping\n",
    "        output, loss = train(category_tensor,data_tensor)\n",
    "        current_loss = 0\n",
    "        all_losses.append(avg_loss)\n",
    "        loss_test_sum = 0\n",
    "        for i in range(len(label_test)):\n",
    "            _, loss_test = train(\n",
    "                torch.tensor([label_test[i]], dtype=torch.long),\n",
    "                lineToTensor(dataset_raw_test[i])\n",
    "            )\n",
    "            loss_test_sum += loss_test\n",
    "        avg_loss_test = loss_test_sum/len(label_test)\n",
    "        test_losses.append(avg_loss_test)\n",
    "        guess = categoryFromOutput(output)\n",
    "        correct = '✓' if guess == category else '✗ (%s)' % category\n",
    "        print(\n",
    "            '%d %d%% (%s) %.4f/%.4f %s / %s %s' % (\n",
    "                iter, \n",
    "                iter / n_iters * 100,\n",
    "                timeSince(start), \n",
    "                avg_loss, \n",
    "                avg_loss_test,\n",
    "                data, \n",
    "                guess, \n",
    "                correct)\n",
    "        )\n",
    "        if len(test_losses)>increase_count:\n",
    "            is_passed = False\n",
    "            for i in range(increase_count):\n",
    "                x_1 = test_losses[-(i+1)]\n",
    "                x_2 = test_losses[-(i+2)]\n",
    "                if x_1 < x_2:\n",
    "                    is_passed = True\n",
    "                    break;\n",
    "            if not is_passed:\n",
    "                print(\"early stopped.\")\n",
    "                break\n",
    "        "
   ]
  },
  {
   "cell_type": "code",
   "execution_count": 18,
   "metadata": {},
   "outputs": [
    {
     "data": {
      "image/png": "[encoded data removed]",
      "text/plain": [
       "<Figure size 432x288 with 1 Axes>"
      ]
     },
     "metadata": {},
     "output_type": "display_data"
    }
   ],
   "source": [
    "import matplotlib.pyplot as plt\n",
    "import matplotlib.ticker as ticker\n",
    "plt.figure()\n",
    "plt.plot(all_losses)\n",
    "plt.show()"
   ]
  },
  {
   "cell_type": "code",
   "execution_count": 19,
   "metadata": {},
   "outputs": [
    {
     "name": "stderr",
     "output_type": "stream",
     "text": [
      "/usr/local/lib/python3.5/dist-packages/torch/serialization.py:193: UserWarning: Couldn't retrieve source code for container of type RNN. It won't be checked for correctness upon loading.\n",
      "  \"type \" + obj.__name__ + \". It won't be checked \"\n"
     ]
    }
   ],
   "source": [
    "torch.save(rnn, 'rnn.pkl')\n",
    "rnn_load = torch.load('rnn.pkl')"
   ]
  },
  {
   "cell_type": "code",
   "execution_count": 21,
   "metadata": {},
   "outputs": [
    {
     "name": "stdout",
     "output_type": "stream",
     "text": [
      "\n",
      "预测医院 -> 上海玛丽女子医院 ->\n",
      "该医院听上去就不是什么正经医院，请仔细核实！\n",
      "\n",
      "预测医院 -> 江阴市人民医院 ->\n",
      "该医院看上去还算正常，请核实后前往就医！\n",
      "\n",
      "预测医院 -> 汉东省人民医院 ->\n",
      "该医院看上去还算正常，请核实后前往就医！\n",
      "\n",
      "预测医院 -> 京州市玛利亚女子医院 ->\n",
      "该医院听上去就不是什么正经医院，请仔细核实！\n"
     ]
    }
   ],
   "source": [
    "def lineToTensorIgnoreOuter(line:str):\n",
    "    line_new = \"\".join([c for c in line if c in char_map])\n",
    "    if line_new!=line:\n",
    "        print(\"(警告：名称变化 %s -> %s)\" % (line,line_new))\n",
    "    tensor = torch.zeros(len(line_new), 1, char_list_size)\n",
    "    for li, ch in enumerate(line_new):\n",
    "        if ch in char_map:\n",
    "            tensor[li][0][char_map[ch]] = 1\n",
    "    return tensor\n",
    "\n",
    "def predict(rnn_model:RNN, input_line:str):\n",
    "    print('\\n预测医院 -> %s ->' % input_line)\n",
    "    with torch.no_grad():\n",
    "        line_tensor = lineToTensorIgnoreOuter(input_line)\n",
    "        hidden = rnn.initHidden()\n",
    "        for i in range(line_tensor.size()[0]):\n",
    "            output, hidden = rnn_model(line_tensor[i], hidden)\n",
    "        result = categoryFromOutput(output)\n",
    "        if  result>0.5:\n",
    "            print(\"该医院看上去还算正常，请核实后前往就医！\")\n",
    "        else:\n",
    "            print(\"该医院听上去就不是什么正经医院，请仔细核实！\")\n",
    "predict(rnn,\"上海玛丽女子医院\")\n",
    "predict(rnn,\"江阴市人民医院\")\n",
    "predict(rnn,\"汉东省人民医院\")\n",
    "predict(rnn,\"京州市玛利亚女子医院\")"
   ]
  }
 ],
 "metadata": {
  "kernelspec": {
   "display_name": "Python 3",
   "language": "python",
   "name": "python3"
  },
  "language_info": {
   "codemirror_mode": {
    "name": "ipython",
    "version": 3
   },
   "file_extension": ".py",
   "mimetype": "text/x-python",
   "name": "python",
   "nbconvert_exporter": "python",
   "pygments_lexer": "ipython3",
   "version": "3.5.2"
  }
 },
 "nbformat": 4,
 "nbformat_minor": 2
}
